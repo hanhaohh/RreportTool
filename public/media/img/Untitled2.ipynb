{
 "metadata": {
  "name": ""
 },
 "nbformat": 3,
 "nbformat_minor": 0,
 "worksheets": [
  {
   "cells": [
    {
     "cell_type": "code",
     "collapsed": false,
     "input": [
      "import pandas as pd\n",
      "import numpy as np\n",
      "from time import time\n",
      "import numpy as np\n",
      "from pylab import *\n",
      "\n",
      "import matplotlib.pyplot as plt\n",
      "import pickle\n",
      "from sklearn import metrics\n",
      "from sklearn.cluster import KMeans\n",
      "from sklearn.datasets import load_digits\n",
      "from sklearn.decomposition import PCA\n",
      "from sklearn.preprocessing import scale\n",
      "customer = pd.read_csv(\"CustomerList2.txt\",sep='\\t')\n",
      "customerProfile = pd.read_csv(\"CustomerProfiles.txt\",sep='\\t')\n",
      "a = customer.groupby('accounttype').annualvolume.describe()\n",
      "df=customerProfile.corr().ix[2:12,2:12]\n",
      "\n",
      "colors = [('white')] + [(cm.jet(i)) for i in xrange(1,256)]\n",
      "new_map = matplotlib.colors.LinearSegmentedColormap.from_list('new_map', colors, N=256)\n",
      "plt.pcolor(df, cmap=new_map)\n",
      "colorbar()\n",
      "plt.yticks(np.arange(0.5, len(df.index), 1), df.index)\n",
      "plt.xticks(np.arange(0.5, len(df.columns), 1), df.columns)\n",
      "plt.show()"
     ],
     "language": "python",
     "metadata": {},
     "outputs": [],
     "prompt_number": 7
    },
    {
     "cell_type": "code",
     "collapsed": false,
     "input": [],
     "language": "python",
     "metadata": {},
     "outputs": []
    }
   ],
   "metadata": {}
  }
 ]
}